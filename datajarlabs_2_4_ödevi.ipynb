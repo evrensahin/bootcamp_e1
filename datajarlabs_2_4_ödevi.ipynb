{
  "nbformat": 4,
  "nbformat_minor": 0,
  "metadata": {
    "colab": {
      "name": "datajarlabs 2.4 ödevi",
      "provenance": []
    },
    "kernelspec": {
      "name": "python3",
      "display_name": "Python 3"
    }
  },
  "cells": [
    {
      "cell_type": "code",
      "metadata": {
        "id": "TxA6CpcLmf8v",
        "colab_type": "code",
        "colab": {}
      },
      "source": [
        "#2.4.1 Ödevi\n",
        "a=int(input(\"derece giriniz:\"))\n",
        "if a!=[]:\n",
        "  c=(a-32)*5/9\n",
        "  f = (a*9/5)+32\n",
        "t=[\"{}F\".format(a),\"-->\",\"{:.1f}C\".format(c)],[\"{}C\".format(a),\"-->\",\"{:.1f}F\".format(f)]\n",
        "print(*t)"
      ],
      "execution_count": 0,
      "outputs": []
    },
    {
      "cell_type": "code",
      "metadata": {
        "id": "JRXE-aNRbryE",
        "colab_type": "code",
        "colab": {}
      },
      "source": [
        "#2.4.2 Ödevi\n",
        "\n",
        "word=input(\"Ters çevirilecek kelimeyi girin: \")\n",
        "reverse=\"\"\n",
        "\n",
        "for i in range(len(word)):\n",
        "    reverse+=word[len(word)-i-1]\n",
        "\n",
        "print(reverse)"
      ],
      "execution_count": 0,
      "outputs": []
    },
    {
      "cell_type": "code",
      "metadata": {
        "id": "a7ZAB6cK3__Y",
        "colab_type": "code",
        "outputId": "04f9086e-d92c-4357-b1f9-2d0c8d50313e",
        "colab": {
          "base_uri": "https://localhost:8080/",
          "height": 34
        }
      },
      "source": [
        "#2.4.3 Ödevi\n",
        "\n",
        "fb=[]\n",
        "num=1\n",
        "\n",
        "while num<50:\n",
        "    if num<=2:\n",
        "        fb.append(1)\n",
        "        \n",
        "    else:\n",
        "        a=fb[-2]+fb[-1]\n",
        "        if a<50:\n",
        "            fb.append(a)\n",
        "    \n",
        "    num+=1\n",
        "    \n",
        "print(fb)"
      ],
      "execution_count": 1,
      "outputs": [
        {
          "output_type": "stream",
          "text": [
            "[1, 1, 2, 3, 5, 8, 13, 21, 34]\n"
          ],
          "name": "stdout"
        }
      ]
    },
    {
      "cell_type": "code",
      "metadata": {
        "id": "_NxE1TfFNNJX",
        "colab_type": "code",
        "colab": {
          "base_uri": "https://localhost:8080/",
          "height": 204
        },
        "outputId": "21d0043d-c11a-45a4-dc00-d0164213c018"
      },
      "source": [
        "#2.4.4 Ödevi\n",
        "sayı=int(input(\"Çarpım tablosu için bir sayı girin\"))\n",
        "for i in range(1, 11):\n",
        "   print(sayı,'x', i,'=',sayı*i)"
      ],
      "execution_count": 11,
      "outputs": [
        {
          "output_type": "stream",
          "text": [
            "Çarpım tablosu için bir sayı girin5\n",
            "5 x 1 = 5\n",
            "5 x 2 = 10\n",
            "5 x 3 = 15\n",
            "5 x 4 = 20\n",
            "5 x 5 = 25\n",
            "5 x 6 = 30\n",
            "5 x 7 = 35\n",
            "5 x 8 = 40\n",
            "5 x 9 = 45\n",
            "5 x 10 = 50\n"
          ],
          "name": "stdout"
        }
      ]
    },
    {
      "cell_type": "code",
      "metadata": {
        "id": "gkeRTSFlCsFt",
        "colab_type": "code",
        "outputId": "aa38ffa0-81dd-4ced-8aac-0c9f160efdf3",
        "colab": {
          "base_uri": "https://localhost:8080/",
          "height": 357
        }
      },
      "source": [
        "#2.4.5 Ödevi\n",
        "\n",
        "sayilar=[i**3 if i%2==0 else i**2 for i in range(1,21)]\n",
        "\n",
        "sayilar"
      ],
      "execution_count": 5,
      "outputs": [
        {
          "output_type": "execute_result",
          "data": {
            "text/plain": [
              "[1,\n",
              " 8,\n",
              " 9,\n",
              " 64,\n",
              " 25,\n",
              " 216,\n",
              " 49,\n",
              " 512,\n",
              " 81,\n",
              " 1000,\n",
              " 121,\n",
              " 1728,\n",
              " 169,\n",
              " 2744,\n",
              " 225,\n",
              " 4096,\n",
              " 289,\n",
              " 5832,\n",
              " 361,\n",
              " 8000]"
            ]
          },
          "metadata": {
            "tags": []
          },
          "execution_count": 5
        }
      ]
    }
  ]
}