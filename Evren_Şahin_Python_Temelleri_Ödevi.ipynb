{
  "nbformat": 4,
  "nbformat_minor": 0,
  "metadata": {
    "colab": {
      "name": "Evren Şahin - Python Temelleri Ödevi.ipynb",
      "provenance": [],
      "collapsed_sections": []
    },
    "kernelspec": {
      "name": "python3",
      "display_name": "Python 3"
    },
    "accelerator": "GPU"
  },
  "cells": [
    {
      "cell_type": "code",
      "metadata": {
        "id": "pZBR6txZCcGY",
        "colab_type": "code",
        "colab": {
          "base_uri": "https://localhost:8080/",
          "height": 115
        },
        "outputId": "32e7ba1e-6aed-435c-87fd-716799e565da"
      },
      "source": [
        "#Ödev1\n",
        "x=1000\n",
        "y=7\n",
        "t=12\n",
        "z=x*(1+(t/100))**y\n",
        "print(z)\n",
        "\n",
        "#ödev2\n",
        "a='Hafta başında {} dolarlık bitcoin aldığımızda \\n günde ortalama %{} kazançla, \\n bir hafta sonunda {:.2f} dolar kazanırdık'.format(x,t,z-x)\n",
        "print(a)\n",
        "\n",
        "#ödev3\n",
        "r = input('Dosya Adı Giriniz:')\n",
        "print ('Dosya Adınız: {}.py'.format(r))"
      ],
      "execution_count": 2,
      "outputs": [
        {
          "output_type": "stream",
          "text": [
            "2210.6814074060812\n",
            "Hafta başında 1000 dolarlık bitcoin aldığımızda \n",
            " günde ortalama %12 kazançla, \n",
            " bir hafta sonunda 1210.68 dolar kazanırdık\n",
            "Dosya Adı Giriniz:evren ödev1\n",
            "Dosya Adınız: evren ödev1.py\n"
          ],
          "name": "stdout"
        }
      ]
    },
    {
      "cell_type": "markdown",
      "metadata": {
        "id": "0NsoSy5z4pZ-",
        "colab_type": "text"
      },
      "source": [
        ""
      ]
    }
  ]
}